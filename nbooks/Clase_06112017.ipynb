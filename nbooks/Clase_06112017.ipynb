{
 "cells": [
  {
   "cell_type": "code",
   "execution_count": 28,
   "metadata": {},
   "outputs": [
    {
     "data": {
      "image/png": "[encoded data removed]",
      "text/plain": [
       "<matplotlib.figure.Figure at 0x931a5c0>"
      ]
     },
     "metadata": {},
     "output_type": "display_data"
    }
   ],
   "source": [
    "import numpy as np\n",
    "import matplotlib.pyplot as plt\n",
    "from numpy import pi,cos,sin,tan\n",
    "%matplotlib inline\n",
    "\n",
    "def plotvector(p0,u,color=\"r\"):\n",
    "    \"\"\"\n",
    "    Gráfica un vector, dados su punto inicial \n",
    "    y sus componentes rectangulares.\n",
    "    \"\"\"\n",
    "    plt.plot([p0[0],p0[0]+u[0]],[p0[1],p0[1]+u[1]],color)\n",
    "\n",
    "r = 0.25\n",
    "theta = pi/4\n",
    "omega = 5\n",
    "k1, k2 = 1e-1, 1e-2 # Factores de reducción\n",
    "R = np.array([r*cos(theta),r*sin(theta)])\n",
    "V = np.array([-r*omega*sin(theta), r*omega*cos(theta)])*k1\n",
    "A = np.array([-r*(omega**2)*cos(theta), -r*(omega**2)*sin(theta)])*k2\n",
    "plotvector([0,0], R, 'b-o')\n",
    "plotvector(R,V, 'r-*')\n",
    "plotvector(R,A, 'g-*')\n",
    "plt.axis('equal')\n",
    "plt.grid('on') # rejilla"
   ]
  }
 ],
 "metadata": {
  "kernelspec": {
   "display_name": "Python 3",
   "language": "python",
   "name": "python3"
  },
  "language_info": {
   "codemirror_mode": {
    "name": "ipython",
    "version": 3
   },
   "file_extension": ".py",
   "mimetype": "text/x-python",
   "name": "python",
   "nbconvert_exporter": "python",
   "pygments_lexer": "ipython3",
   "version": "3.6.3"
  }
 },
 "nbformat": 4,
 "nbformat_minor": 2
}
